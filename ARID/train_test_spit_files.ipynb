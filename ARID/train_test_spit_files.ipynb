{
 "cells": [
  {
   "cell_type": "code",
   "execution_count": null,
   "metadata": {},
   "outputs": [],
   "source": [
    "import os \n",
    "import pandas as pd \n",
    "def text_deal(text_file:str,text_type):\n",
    "    source='../ARID_frames/'\n",
    "\n",
    "    data_to_save = pd.DataFrame(columns = [\"ClassID\" , \"Video\" , \"Duration\"])\n",
    "    with open(text_file,'r') as f:\n",
    "        text_list=f.readlines()\n",
    "        print(text_list)\n",
    "text_deal(\"../list_cvt/split_0/split0_test.txt\" , \"test\")\n"
   ]
  },
  {
   "cell_type": "code",
   "execution_count": null,
   "metadata": {},
   "outputs": [],
   "source": [
    "import os\n",
    "import csv\n",
    "def csv_deal(csv_file:str,csv_type):\n",
    "    path='../ARID_frames/'\n",
    "    with open(csv_file, newline=\"\") as split_f:\n",
    "        reader = csv.DictReader(split_f)   #把第一行作为key值\n",
    "        save_txt=csv_type + '_' + \"split1\" + \".txt\"\n",
    "        with open(save_txt, 'w') as write_txt:\n",
    "            for i,line in enumerate(reader):\n",
    "                label = line[\"ClassID\"]  # 视频种类\n",
    "                name = line[\"Video\"][:-4]  # 视频名称\n",
    "                duration = str(len(os.listdir(path+name)))\n",
    "                write_thing=name+' '+duration+' '+label+'\\n'\n",
    "                print(\"正在写入：视频：\"+name+'帧数：'+duration+'标签：'+label)\n",
    "                write_txt.write(write_thing)\n",
    "\n",
    "#csv_deal(\"ARID1.1_t1_train_pub.csv\",\"train\")\n",
    "# csv_deal(\"ARID1.1_t1_test_pub.csv\",\"val\")\n",
    "# txt_deal('train_rgb_split1.txt')"
   ]
  }
 ],
 "metadata": {
  "kernelspec": {
   "display_name": "Python 3",
   "language": "python",
   "name": "python3"
  },
  "language_info": {
   "codemirror_mode": {
    "name": "ipython",
    "version": 3
   },
   "file_extension": ".py",
   "mimetype": "text/x-python",
   "name": "python",
   "nbconvert_exporter": "python",
   "pygments_lexer": "ipython3",
   "version": "3.11.3"
  }
 },
 "nbformat": 4,
 "nbformat_minor": 2
}
